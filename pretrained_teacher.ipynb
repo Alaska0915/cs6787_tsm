{
 "cells": [
  {
   "cell_type": "code",
   "execution_count": 1,
   "metadata": {},
   "outputs": [],
   "source": [
    "import torch \n",
    "import numpy as np\n",
    "import transformers, datasets, accelerate, tensorboard, evaluate\n",
    "from models import Student\n",
    "import torch.nn as nn\n",
    "import torch.optim as optim\n",
    "from util import *\n",
    "from loss import LossCalulcator\n",
    "from pretrained_kd import *\n",
    "from datasets import Array3D, ClassLabel, Features, load_dataset, Image\n",
    "from matplotlib import pyplot\n",
    "from tqdm import tqdm\n",
    "from transformers import AdamW, ViTFeatureExtractor, ViTModel\n",
    "from torch.profiler import profile, record_function, ProfilerActivity\n"
   ]
  },
  {
   "cell_type": "code",
   "execution_count": 2,
   "metadata": {},
   "outputs": [],
   "source": [
    "# define hyperparameters\n",
    "device = torch.device('cuda' if torch.cuda.is_available() else 'cpu')\n",
    "epochs = 100\n",
    "lr = 0.001\n",
    "lr_stepsize = 20\n",
    "batch_size = 500\n",
    "test_batch_size = 100\n",
    "temperature=2\n",
    "alpha=0.7\n"
   ]
  },
  {
   "cell_type": "code",
   "execution_count": 3,
   "metadata": {},
   "outputs": [
    {
     "name": "stderr",
     "output_type": "stream",
     "text": [
      "/opt/homebrew/anaconda3/lib/python3.11/site-packages/huggingface_hub/file_download.py:1132: FutureWarning: `resume_download` is deprecated and will be removed in version 1.0.0. Downloads always resume when possible. If you want to force a new download, use `force_download=True`.\n",
      "  warnings.warn(\n",
      "/opt/homebrew/anaconda3/lib/python3.11/site-packages/transformers/models/vit/feature_extraction_vit.py:28: FutureWarning: The class ViTFeatureExtractor is deprecated and will be removed in version 5 of Transformers. Please use ViTImageProcessor instead.\n",
      "  warnings.warn(\n"
     ]
    }
   ],
   "source": [
    "# Load model directly\n",
    "from transformers import ViTForImageClassification, ViTFeatureExtractor\n",
    "# from transformers import EfficientNetImageProcessor, EfficientNetForImageClassification\n",
    "\n",
    "\n",
    "# import timm\n",
    "\n",
    "feature_extractor = ViTFeatureExtractor.from_pretrained('nateraw/vit-base-patch16-224-cifar10')\n",
    "teacher = ViTForImageClassification.from_pretrained('nateraw/vit-base-patch16-224-cifar10')\n",
    "\n",
    "\n",
    "# processor = EfficientNetImageProcessor.from_pretrained(\"google/efficientnet-b4\")\n",
    "# teacher = EfficientNetForImageClassification.from_pretrained(\"google/efficientnet-b4\")\n",
    "\n",
    "# processor = AutoImageProcessor.from_pretrained(\"ahsanjavid/convnext-tiny-finetuned-cifar10\")\n",
    "# teacher = AutoModelForImageClassification.from_pretrained(\"ahsanjavid/convnext-tiny-finetuned-cifar10\")\n",
    "\n",
    "# processor = AutoImageProcessor.from_pretrained(\"aaraki/vit-base-patch16-224-in21k-finetuned-cifar10\")\n",
    "# teacher = AutoModelForImageClassification.from_pretrained(\"aaraki/vit-base-patch16-224-in21k-finetuned-cifar10\")\n",
    "# feature_extractor = ViTFeatureExtractor.from_pretrained(\"google/vit-base-patch16-224-in21k\")"
   ]
  },
  {
   "cell_type": "code",
   "execution_count": 4,
   "metadata": {},
   "outputs": [
    {
     "name": "stdout",
     "output_type": "stream",
     "text": [
      "85806346\n"
     ]
    }
   ],
   "source": [
    "print(sum(p.numel() for p in teacher.parameters()))"
   ]
  },
  {
   "cell_type": "code",
   "execution_count": 37,
   "metadata": {},
   "outputs": [
    {
     "name": "stdout",
     "output_type": "stream",
     "text": [
      "11444\n"
     ]
    }
   ],
   "source": [
    "student = Student(3, 32, 10, 0.2)\n",
    "student.load_state_dict(torch.load('model/cifar10_github/epoch_99.bin'))\n",
    "print(sum(p.numel() for p in student.parameters()))\n",
    "\n",
    "# model.eval()"
   ]
  },
  {
   "cell_type": "code",
   "execution_count": 38,
   "metadata": {},
   "outputs": [
    {
     "name": "stdout",
     "output_type": "stream",
     "text": [
      "Files already downloaded and verified\n",
      "Files already downloaded and verified\n",
      "Files already downloaded and verified\n"
     ]
    }
   ],
   "source": [
    "from torchvision.transforms import ToTensor, Normalize, Resize, Compose\n",
    "import torchvision.transforms as transforms\n",
    "import torchvision.datasets as datasets\n",
    "\n",
    "transforms_cifar = transforms.Compose([\n",
    "    transforms.ToTensor(),\n",
    "    transforms.Normalize(mean=[0.485, 0.456, 0.406], std=[0.229, 0.224, 0.225]),\n",
    "])\n",
    "\n",
    "dataset = {}\n",
    "\n",
    "dataset['train'] = datasets.CIFAR10(root='./data', train=True, download=True, transform=transforms_cifar)\n",
    "dataset['test'] = datasets.CIFAR10(root='./data', train=False, download=True, transform=transforms_cifar)\n",
    "dataset['raw_train'] = datasets.CIFAR10(root='./data', train=True, download=True, transform=transforms.ToTensor())\n",
    "\n",
    "\n",
    "# split = dataset['train'].train_test_split(test_size=(5000.0/50000), seed=42)\n",
    "\n",
    "# dataset['splitted_train'] = split['train']\n",
    "# dataset['validation'] = split['test']\n",
    "\n",
    "preprocessed_dataloaders={}\n",
    "preprocessed_dataloaders['train'] = torch.utils.data.DataLoader(dataset['train'], batch_size=batch_size)\n",
    "preprocessed_dataloaders['test'] = torch.utils.data.DataLoader(dataset['test'], batch_size=test_batch_size)\n",
    "preprocessed_dataloaders['raw_train'] = torch.utils.data.DataLoader(dataset['raw_train'], batch_size=batch_size)\n",
    "\n",
    "# preprocessed_dataloaders['validation'] = torch.utils.data.DataLoader(dataset['validation'], batch_size=test_batch_size)\n",
    "\n",
    "\n",
    "\n",
    "# dataset = load_dataset(\"cifar10\")\n",
    "# split = dataset['train'].train_test_split(test_size=(5000.0/50000), seed=42)\n",
    "# # split2 = dataset['train'].train_test_split(test_size=(5000.0/49000))\n",
    "# dataset['splitted_train'] = split['train']\n",
    "# # dataset['extra'] = split2['train']\n",
    "# dataset['validation'] = split['test']\n",
    "\n",
    "\n",
    "# def preprocess_images(examples):\n",
    "#     # get batch of images\n",
    "#     images = examples['img']\n",
    "#     examples['img'] = [np.array(image) for image in examples['img']]\n",
    "#     # convert to list of NumPy arrays of shape (C, H, W)\n",
    "#     images = [np.array(image, dtype=np.uint8) for image in images]\n",
    "#     images = [np.moveaxis(image, source=-1, destination=0) for image in images]\n",
    "#     # preprocess and add pixel_values\n",
    "#     inputs = feature_extractor(images=images)\n",
    "#     examples['pixel_values'] = inputs['pixel_values']\n",
    "#     return examples\n",
    "\n",
    "# features = Features({\n",
    "#     'label': ClassLabel(names=['airplane', 'automobile', 'bird', 'cat', 'deer', 'dog', 'frog', 'horse', 'ship', 'truck']),\n",
    "#     # 'img': Image(decode=True, id=None),\n",
    "#     # could probably change img to int for faster inference\n",
    "#     'img': Array3D(dtype=\"float32\", shape=(3,32,32)),\n",
    "#     'pixel_values': Array3D(dtype=\"float32\", shape=(3, 224, 224)), })\n",
    "\n",
    "# # preprocessed_train = dataset['train'].map(preprocess_images, batched=True, features=features)\n",
    "# preprocessed_val = dataset['validation'].map(preprocess_images, batched=True, features=features)\n",
    "# # preprocessed_test = dataset['test'].map(preprocess_images, batched=True, features=features)\n",
    "# preprocessed_splitted_train = dataset['splitted_train'].map(preprocess_images, batched=True, features=features)\n",
    "\n",
    "# # set format to PyTorch\n",
    "# # preprocessed_train.set_format('torch', columns=['img', 'pixel_values', 'label'])\n",
    "# preprocessed_val.set_format('torch', columns=['img', 'pixel_values', 'label'])\n",
    "# # preprocessed_test.set_format('torch', columns=['img', 'pixel_values', 'label'])\n",
    "# preprocessed_splitted_train.set_format('torch', columns=['img', 'pixel_values', 'label'])"
   ]
  },
  {
   "cell_type": "code",
   "execution_count": 7,
   "metadata": {},
   "outputs": [],
   "source": [
    "# preprocessed_dataloaders = {}\n",
    "# preprocessed_dataloaders['splitted_train'] = torch.utils.data.DataLoader(preprocessed_splitted_train, batch_size=batch_size, shuffle=True)\n",
    "# preprocessed_dataloaders['validation'] = torch.utils.data.DataLoader(preprocessed_val, batch_size=batch_size)\n",
    "# preprocessed_dataloaders['test'] = torch.utils.data.DataLoader(preprocessed_test, batch_size=test_batch_size)"
   ]
  },
  {
   "cell_type": "code",
   "execution_count": 8,
   "metadata": {},
   "outputs": [],
   "source": [
    "# import time\n",
    "# teacher_input = next(iter(preprocessed_dataloaders['splitted_train']))\n",
    "# start = time.time()\n",
    "# with torch.no_grad():\n",
    "#     teacher_output = teacher(teacher_input['pixel_values'])\n",
    "# total = time.time() - start\n",
    "# print(total)\n",
    "# print(teacher_output)"
   ]
  },
  {
   "cell_type": "code",
   "execution_count": 9,
   "metadata": {},
   "outputs": [],
   "source": [
    "# teacher_saved = torch.load(os.path.join('inference', 'splitted_train.pt'))[0][1]\n",
    "# print(teacher)\n",
    "# teacher_input = preprocessed_dataloaders['splitted_train'].dataset\n",
    "# # print(teacher(teacher_input))\n",
    "# # print(teacher_input['label'])"
   ]
  },
  {
   "cell_type": "code",
   "execution_count": 10,
   "metadata": {},
   "outputs": [],
   "source": [
    "# import time\n",
    "# student_input = next(iter(preprocessed_dataloaders['test']))  \n",
    "# start = time.time()\n",
    "# student_output = student(student_input['img'])\n",
    "# total = time.time()-start\n",
    "# print(total)\n",
    "# print(student_output)"
   ]
  },
  {
   "cell_type": "code",
   "execution_count": 7,
   "metadata": {},
   "outputs": [],
   "source": [
    "loss_calculator = LossCalulcator(temperature, alpha)\n",
    "optimizer = optim.Adam(\n",
    "    student.parameters(),\n",
    "    lr=lr)\n",
    "# scheduler = optim.lr_scheduler.StepLR(optimizer = optimizer,\n",
    "                                    # step_size = lr_stepsize)"
   ]
  },
  {
   "cell_type": "code",
   "execution_count": 12,
   "metadata": {},
   "outputs": [],
   "source": [
    "# # prepare teacher, only need to run once\n",
    "# teacher_outputs = []\n",
    "# with torch.no_grad():\n",
    "#     for images,labels in (preprocessed_dataloaders['raw_train']):\n",
    "#         teacher_inputs = feature_extractor(images=images, return_tensors='pt', do_rescale=False)\n",
    "#         teacher_outputs.append(teacher(**teacher_inputs).logits)\n",
    "\n",
    "# torch.save(teacher_outputs, os.path.join('inference', 'train.pt'))"
   ]
  },
  {
   "cell_type": "code",
   "execution_count": 19,
   "metadata": {},
   "outputs": [
    {
     "name": "stderr",
     "output_type": "stream",
     "text": [
      "  2%|▏         | 1/50 [01:26<1:11:01, 86.98s/it]"
     ]
    },
    {
     "name": "stdout",
     "output_type": "stream",
     "text": [
      "Epoch 1 took 86.977149 s and has accuracy 0.535600\n"
     ]
    },
    {
     "name": "stderr",
     "output_type": "stream",
     "text": [
      "  4%|▍         | 2/50 [03:04<1:14:37, 93.29s/it]"
     ]
    },
    {
     "name": "stdout",
     "output_type": "stream",
     "text": [
      "Epoch 2 took 184.674867 s and has accuracy 0.536200\n"
     ]
    },
    {
     "name": "stderr",
     "output_type": "stream",
     "text": [
      "  6%|▌         | 3/50 [04:35<1:12:12, 92.17s/it]"
     ]
    },
    {
     "name": "stdout",
     "output_type": "stream",
     "text": [
      "Epoch 3 took 275.525401 s and has accuracy 0.529000\n"
     ]
    },
    {
     "name": "stderr",
     "output_type": "stream",
     "text": [
      "  8%|▊         | 4/50 [06:14<1:12:34, 94.67s/it]"
     ]
    },
    {
     "name": "stdout",
     "output_type": "stream",
     "text": [
      "Epoch 4 took 374.025113 s and has accuracy 0.532000\n"
     ]
    },
    {
     "name": "stderr",
     "output_type": "stream",
     "text": [
      " 10%|█         | 5/50 [07:47<1:10:40, 94.23s/it]"
     ]
    },
    {
     "name": "stdout",
     "output_type": "stream",
     "text": [
      "Epoch 5 took 467.453291 s and has accuracy 0.539700\n"
     ]
    },
    {
     "name": "stderr",
     "output_type": "stream",
     "text": [
      " 20%|██        | 10/50 [15:40<1:01:38, 92.46s/it]"
     ]
    },
    {
     "name": "stdout",
     "output_type": "stream",
     "text": [
      "Epoch 10 took 940.242531 s and has accuracy 0.537700\n"
     ]
    },
    {
     "name": "stderr",
     "output_type": "stream",
     "text": [
      " 30%|███       | 15/50 [23:03<51:49, 88.84s/it]  "
     ]
    },
    {
     "name": "stdout",
     "output_type": "stream",
     "text": [
      "Epoch 15 took 1383.671238 s and has accuracy 0.536800\n"
     ]
    },
    {
     "name": "stderr",
     "output_type": "stream",
     "text": [
      " 40%|████      | 20/50 [30:39<46:04, 92.16s/it]"
     ]
    },
    {
     "name": "stdout",
     "output_type": "stream",
     "text": [
      "Epoch 20 took 1839.682158 s and has accuracy 0.537200\n"
     ]
    },
    {
     "name": "stderr",
     "output_type": "stream",
     "text": [
      " 50%|█████     | 25/50 [38:53<40:17, 96.70s/it]"
     ]
    },
    {
     "name": "stdout",
     "output_type": "stream",
     "text": [
      "Epoch 25 took 2333.558946 s and has accuracy 0.543600\n"
     ]
    },
    {
     "name": "stderr",
     "output_type": "stream",
     "text": [
      " 60%|██████    | 30/50 [46:50<31:48, 95.40s/it]"
     ]
    },
    {
     "name": "stdout",
     "output_type": "stream",
     "text": [
      "Epoch 30 took 2810.878697 s and has accuracy 0.545600\n"
     ]
    },
    {
     "name": "stderr",
     "output_type": "stream",
     "text": [
      " 70%|███████   | 35/50 [54:28<23:06, 92.46s/it]"
     ]
    },
    {
     "name": "stdout",
     "output_type": "stream",
     "text": [
      "Epoch 35 took 3267.973433 s and has accuracy 0.544700\n"
     ]
    },
    {
     "name": "stderr",
     "output_type": "stream",
     "text": [
      " 80%|████████  | 40/50 [1:02:12<15:36, 93.62s/it]"
     ]
    },
    {
     "name": "stdout",
     "output_type": "stream",
     "text": [
      "Epoch 40 took 3732.343959 s and has accuracy 0.544600\n"
     ]
    },
    {
     "name": "stderr",
     "output_type": "stream",
     "text": [
      " 90%|█████████ | 45/50 [1:09:53<07:38, 91.66s/it]"
     ]
    },
    {
     "name": "stdout",
     "output_type": "stream",
     "text": [
      "Epoch 45 took 4193.384106 s and has accuracy 0.551400\n"
     ]
    },
    {
     "name": "stderr",
     "output_type": "stream",
     "text": [
      "100%|██████████| 50/50 [1:17:37<00:00, 93.14s/it]"
     ]
    },
    {
     "name": "stdout",
     "output_type": "stream",
     "text": [
      "Epoch 50 took 4657.015811 s and has accuracy 0.557900\n",
      "Finished Training in 4657.015811, Best Accuracy: 0.557900 (at 50 epochs)\n"
     ]
    },
    {
     "name": "stderr",
     "output_type": "stream",
     "text": [
      "\n"
     ]
    },
    {
     "data": {
      "text/plain": [
       "Student(\n",
       "  (conv_1): Sequential(\n",
       "    (0): Conv2d(3, 32, kernel_size=(3, 3), stride=(1, 1), padding=(1, 1))\n",
       "    (1): LeakyReLU(negative_slope=0.01)\n",
       "    (2): Dropout(p=0.5, inplace=False)\n",
       "  )\n",
       "  (conv_2): Sequential(\n",
       "    (0): Conv2d(32, 32, kernel_size=(3, 3), stride=(1, 1), padding=(1, 1))\n",
       "    (1): LeakyReLU(negative_slope=0.01)\n",
       "    (2): Dropout(p=0.5, inplace=False)\n",
       "  )\n",
       "  (classifier): Sequential(\n",
       "    (0): Linear(in_features=32, out_features=30, bias=True)\n",
       "    (1): LeakyReLU(negative_slope=0.01)\n",
       "    (2): Dropout(p=0.2, inplace=False)\n",
       "    (3): Linear(in_features=30, out_features=10, bias=True)\n",
       "  )\n",
       ")"
      ]
     },
     "execution_count": 19,
     "metadata": {},
     "output_type": "execute_result"
    }
   ],
   "source": [
    "train(student = student,\n",
    "    teacher = teacher,\n",
    "    dataloader = preprocessed_dataloaders['train'],\n",
    "    val_dataloader = preprocessed_dataloaders['test'],\n",
    "    optimizer = optimizer,\n",
    "    # scheduler = scheduler,\n",
    "    loss_calculator = loss_calculator,\n",
    "    epochs = epochs,\n",
    "    device = device,\n",
    "    )"
   ]
  },
  {
   "cell_type": "code",
   "execution_count": 14,
   "metadata": {},
   "outputs": [],
   "source": [
    "# preprocessed_test = dataset['test'].map(preprocess_images, batched=True, features=features)\n",
    "# preprocessed_test.set_format('torch', columns=['img', 'pixel_values', 'label'])\n",
    "# preprocessed_dataloaders['test'] = torch.utils.data.DataLoader(preprocessed_test, batch_size=test_batch_size)"
   ]
  },
  {
   "cell_type": "code",
   "execution_count": 15,
   "metadata": {},
   "outputs": [
    {
     "data": {
      "text/plain": [
       "(0.013352734184265136, 0.5382)"
      ]
     },
     "execution_count": 15,
     "metadata": {},
     "output_type": "execute_result"
    }
   ],
   "source": [
    "loss_fn = torch.nn.CrossEntropyLoss()\n",
    "evaluate_model(preprocessed_dataloaders['test'], student, loss_fn, device)"
   ]
  },
  {
   "cell_type": "code",
   "execution_count": 9,
   "metadata": {},
   "outputs": [
    {
     "name": "stdout",
     "output_type": "stream",
     "text": [
      "[2.9119067192077637, 2.798086404800415, 2.623811721801758, 2.648958683013916, 2.700639009475708, 2.624070644378662, 2.628148317337036, 2.605930805206299, 2.5547943115234375, 2.534236192703247]\n",
      "[0.01448933001756668, 0.014049785959720612, 0.01381456434726715, 0.013430650234222413, 0.013285023272037505, 0.013172258281707764, 0.013123435413837432, 0.01299552470445633, 0.012972171878814697, 0.01280063589811325]\n",
      "[0.4945, 0.5033, 0.5156, 0.5321, 0.5321, 0.54, 0.5425, 0.5427, 0.5473, 0.5503]\n",
      "[866.2980179786682, 877.5031671524048, 878.7790353298187, 868.7440049648285, 858.5296969413757, 861.1826407909393, 824.4850714206696, 890.9664273262024, 844.6121180057526, 849.03386759758]\n"
     ]
    }
   ],
   "source": [
    "kd_loss = []\n",
    "ce_loss = []\n",
    "accuracy = []\n",
    "training_time = []\n",
    "prev_tt = 0\n",
    "loss_fn = torch.nn.CrossEntropyLoss()\n",
    "\n",
    "for i in range(1, 11): \n",
    "    file = torch.load(os.path.join('model','cifar10_pretrained', 'epoch_{}.pth'.format(i*10)))\n",
    "    student.load_state_dict(file['state_dict'])\n",
    "    loss, acc = evaluate_model(preprocessed_dataloaders['test'], student, loss_fn, device)\n",
    "    kd_loss.append(file['kd loss'])\n",
    "    ce_loss.append(loss)\n",
    "    accuracy.append(acc)\n",
    "    tt = file['training time']\n",
    "    training_time.append(tt-prev_tt)\n",
    "    prev_tt = tt\n",
    "    if (i==5): prev_tt=0 # epoch 60 was trained separately so the training time resetted\n",
    "\n",
    "print(kd_loss)\n",
    "print(ce_loss)\n",
    "print(accuracy)\n",
    "print(training_time)"
   ]
  },
  {
   "cell_type": "code",
   "execution_count": 10,
   "metadata": {},
   "outputs": [
    {
     "name": "stdout",
     "output_type": "stream",
     "text": [
      "862.013404750824\n"
     ]
    }
   ],
   "source": [
    "# print(np.mean(np.array(training_time)))"
   ]
  },
  {
   "cell_type": "code",
   "execution_count": 13,
   "metadata": {},
   "outputs": [],
   "source": [
    "def plot(xrange, ydata, title, ylabel):\n",
    "    y = np.array(ydata) * 100\n",
    "    x = np.arange(0, xrange, step=10) + 10\n",
    "    plt.plot(x, y)\n",
    "    plt.title(title)\n",
    "    plt.xlabel(\"epoch iteration\")\n",
    "    plt.ylabel(ylabel)\n",
    "    plt.show()"
   ]
  },
  {
   "cell_type": "code",
   "execution_count": 14,
   "metadata": {},
   "outputs": [
    {
     "data": {
      "image/png": "[encoded data removed]",
      "text/plain": [
       "<Figure size 640x480 with 1 Axes>"
      ]
     },
     "metadata": {},
     "output_type": "display_data"
    }
   ],
   "source": [
    "plot(100, accuracy, \"testing accuracy with pretrained model distillation\", 'test accuracy (%)')"
   ]
  },
  {
   "cell_type": "code",
   "execution_count": 12,
   "metadata": {},
   "outputs": [
    {
     "ename": "NameError",
     "evalue": "name 'plot' is not defined",
     "output_type": "error",
     "traceback": [
      "\u001b[0;31m---------------------------------------------------------------------------\u001b[0m",
      "\u001b[0;31mNameError\u001b[0m                                 Traceback (most recent call last)",
      "Cell \u001b[0;32mIn[12], line 1\u001b[0m\n\u001b[0;32m----> 1\u001b[0m plot(\u001b[38;5;241m100\u001b[39m, ce_loss, \u001b[38;5;124m\"\u001b[39m\u001b[38;5;124mstudent model cross entropy loss with pretrained model distillation\u001b[39m\u001b[38;5;124m\"\u001b[39m, \u001b[38;5;124m\"\u001b[39m\u001b[38;5;124mcross entropy loss\u001b[39m\u001b[38;5;124m\"\u001b[39m)\n",
      "\u001b[0;31mNameError\u001b[0m: name 'plot' is not defined"
     ]
    }
   ],
   "source": [
    "plot(100, ce_loss, \"student model cross entropy loss with pretrained model distillation\", \"cross entropy loss\")"
   ]
  },
  {
   "cell_type": "code",
   "execution_count": 38,
   "metadata": {},
   "outputs": [
    {
     "data": {
      "image/png": "[encoded data removed]",
      "text/plain": [
       "<Figure size 640x480 with 1 Axes>"
      ]
     },
     "metadata": {},
     "output_type": "display_data"
    }
   ],
   "source": [
    "plot(100, kd_loss, \"kl divergence loss with pretrained model distillation\", \"kl loss\")"
   ]
  },
  {
   "cell_type": "code",
   "execution_count": 47,
   "metadata": {},
   "outputs": [
    {
     "data": {
      "image/png": "[encoded data removed]",
      "text/plain": [
       "<Figure size 640x480 with 1 Axes>"
      ]
     },
     "metadata": {},
     "output_type": "display_data"
    }
   ],
   "source": [
    "plot(100, training_time, \"training time during each epoch with pretrained model distillation\", \"time (s)\")"
   ]
  },
  {
   "cell_type": "code",
   "execution_count": 36,
   "metadata": {},
   "outputs": [
    {
     "name": "stderr",
     "output_type": "stream",
     "text": [
      "STAGE:2024-05-15 20:02:15 73279:7421708 ActivityProfilerController.cpp:314] Completed Stage: Warm Up\n",
      "STAGE:2024-05-15 20:02:15 73279:7421708 ActivityProfilerController.cpp:320] Completed Stage: Collection\n",
      "STAGE:2024-05-15 20:02:15 73279:7421708 ActivityProfilerController.cpp:324] Completed Stage: Post Processing\n"
     ]
    },
    {
     "name": "stdout",
     "output_type": "stream",
     "text": [
      "-------------------------------------------------------  ------------  ------------  ------------  ------------  ------------  ------------  ------------  ------------  \n",
      "                                                   Name    Self CPU %      Self CPU   CPU total %     CPU total  CPU time avg       CPU Mem  Self CPU Mem    # of Calls  \n",
      "-------------------------------------------------------  ------------  ------------  ------------  ------------  ------------  ------------  ------------  ------------  \n",
      "                                            aten::empty         0.13%     132.000us         0.13%     132.000us       0.430us      50.22 Mb      50.22 Mb           307  \n",
      "                                          aten::dropout         0.08%      81.000us        38.61%      39.650ms      13.217ms      50.02 Mb           0 b             3  \n",
      "                                       aten::empty_like         0.10%     105.000us         0.15%     150.000us       1.456us      25.25 Mb     189.00 Kb           103  \n",
      "                                       aten::leaky_relu         4.03%       4.134ms         4.03%       4.134ms       1.378ms      25.01 Mb      25.01 Mb             3  \n",
      "                                              aten::mul         3.91%       4.016ms         3.91%       4.016ms       1.339ms      25.01 Mb      25.01 Mb             3  \n",
      "                                           aten::conv2d         0.02%      16.000us        42.15%      43.284ms      21.642ms      25.00 Mb           0 b             2  \n",
      "                                      aten::convolution         0.06%      61.000us        42.13%      43.268ms      21.634ms      25.00 Mb           0 b             2  \n",
      "                                     aten::_convolution         0.04%      39.000us        42.08%      43.207ms      21.604ms      25.00 Mb           0 b             2  \n",
      "                      aten::_nnpack_spatial_convolution        42.03%      43.161ms        42.04%      43.168ms      21.584ms      25.00 Mb           0 b             2  \n",
      "                                    aten::empty_strided         0.13%     130.000us         0.13%     130.000us       0.322us       1.61 Mb       1.61 Mb           404  \n",
      "-------------------------------------------------------  ------------  ------------  ------------  ------------  ------------  ------------  ------------  ------------  \n",
      "Self CPU time total: 102.689ms\n",
      "\n"
     ]
    }
   ],
   "source": [
    "with profile(activities=[ProfilerActivity.CPU], profile_memory=True, record_shapes=True) as prof:\n",
    "    with record_function(\"model_inference\"):\n",
    "        student(next(iter(preprocessed_dataloaders['test']))[0])\n",
    "\n",
    "print(prof.key_averages().table(sort_by=\"cpu_memory_usage\", row_limit=10))"
   ]
  },
  {
   "cell_type": "code",
   "execution_count": 35,
   "metadata": {},
   "outputs": [
    {
     "name": "stderr",
     "output_type": "stream",
     "text": [
      "STAGE:2024-05-15 20:01:25 73279:7421708 ActivityProfilerController.cpp:314] Completed Stage: Warm Up\n",
      "STAGE:2024-05-15 20:01:25 73279:7421708 ActivityProfilerController.cpp:320] Completed Stage: Collection\n",
      "STAGE:2024-05-15 20:01:25 73279:7421708 ActivityProfilerController.cpp:324] Completed Stage: Post Processing\n"
     ]
    },
    {
     "name": "stdout",
     "output_type": "stream",
     "text": [
      "-------------------------------------------------------  ------------  ------------  ------------  ------------  ------------  ------------  ------------  ------------  \n",
      "                                                   Name    Self CPU %      Self CPU   CPU total %     CPU total  CPU time avg       CPU Mem  Self CPU Mem    # of Calls  \n",
      "-------------------------------------------------------  ------------  ------------  ------------  ------------  ------------  ------------  ------------  ------------  \n",
      "                                            aten::empty         0.06%     221.000us         0.06%     221.000us       0.633us     150.19 Mb     150.19 Mb           349  \n",
      "                                          aten::dropout         0.05%     177.000us        35.43%     138.851ms      23.142ms     125.02 Mb          -8 b             6  \n",
      "                                       aten::empty_like         0.03%     108.000us         0.06%     223.000us       2.027us     112.68 Mb      12.62 Mb           110  \n",
      "                                       aten::leaky_relu        11.01%      43.128ms        11.01%      43.128ms       7.188ms      62.51 Mb      62.51 Mb             6  \n",
      "                                              aten::mul         2.90%      11.365ms         2.90%      11.365ms       1.894ms      62.51 Mb      62.51 Mb             6  \n",
      "                                           aten::conv2d         0.01%      30.000us        39.43%     154.505ms      30.901ms      62.50 Mb           0 b             5  \n",
      "                                      aten::convolution         0.03%     110.000us        39.42%     154.475ms      30.895ms      62.50 Mb           0 b             5  \n",
      "                                     aten::_convolution         0.02%      90.000us        39.39%     154.365ms      30.873ms      62.50 Mb           0 b             5  \n",
      "                      aten::_nnpack_spatial_convolution        39.36%     154.236ms        39.37%     154.275ms      30.855ms      62.50 Mb      12.50 Mb             5  \n",
      "                                       aten::batch_norm         0.01%      30.000us         9.06%      35.514ms       8.879ms      50.00 Mb           0 b             4  \n",
      "-------------------------------------------------------  ------------  ------------  ------------  ------------  ------------  ------------  ------------  ------------  \n",
      "Self CPU time total: 391.893ms\n",
      "\n"
     ]
    }
   ],
   "source": [
    "from models import Teacher\n",
    "\n",
    "teacher4 = Teacher(3, 32, 4, 10, 0.2)\n",
    "teacher6 = Teacher(3, 32, 6, 10, 0.2)\n",
    "teacher8 = Teacher(3, 32, 8, 10, 0.2)\n",
    "\n",
    "teacher4.load_state_dict(torch.load('model/cifar10_teacher_adamW_github/epoch_99.bin'))\n",
    "teacher6.load_state_dict(torch.load('model/cifar10_teacher_larger_adamW_github/epoch_99.bin'))\n",
    "teacher8.load_state_dict(torch.load('model/cifar10_teacher_even_larger_adamW_github/epoch_99.bin'))\n",
    "\n",
    "with profile(activities=[ProfilerActivity.CPU], profile_memory=True, record_shapes=True) as prof:\n",
    "    with record_function(\"model_inference\"):\n",
    "        teacher4(next(iter(preprocessed_dataloaders['test']))[0])\n",
    "\n",
    "print(prof.key_averages().table(sort_by=\"cpu_memory_usage\", row_limit=10))"
   ]
  },
  {
   "cell_type": "code",
   "execution_count": 30,
   "metadata": {},
   "outputs": [
    {
     "name": "stderr",
     "output_type": "stream",
     "text": [
      "STAGE:2024-05-15 19:53:51 73279:7421708 ActivityProfilerController.cpp:314] Completed Stage: Warm Up\n"
     ]
    },
    {
     "name": "stdout",
     "output_type": "stream",
     "text": [
      "-------------------------------------------------------  ------------  ------------  ------------  ------------  ------------  ------------  ------------  ------------  \n",
      "                                                   Name    Self CPU %      Self CPU   CPU total %     CPU total  CPU time avg       CPU Mem  Self CPU Mem    # of Calls  \n",
      "-------------------------------------------------------  ------------  ------------  ------------  ------------  ------------  ------------  ------------  ------------  \n",
      "                                            aten::empty         0.13%     470.000us         0.13%     470.000us       1.267us     250.20 Mb     250.20 Mb           371  \n",
      "                                          aten::dropout         0.05%     192.000us        36.87%     134.038ms      16.755ms     175.02 Mb         -12 b             8  \n",
      "                                       aten::empty_like         0.05%     166.000us         0.10%     349.000us       3.061us     150.22 Mb     171.00 Kb           114  \n",
      "                                       aten::leaky_relu         3.60%      13.076ms         3.60%      13.076ms       1.635ms      87.51 Mb      87.51 Mb             8  \n",
      "                                              aten::mul         6.38%      23.188ms         6.38%      23.188ms       2.898ms      87.51 Mb      87.51 Mb             8  \n",
      "                                           aten::conv2d         0.01%      38.000us        47.67%     173.293ms      24.756ms      87.50 Mb           0 b             7  \n",
      "                                      aten::convolution         0.05%     184.000us        47.66%     173.255ms      24.751ms      87.50 Mb           0 b             7  \n",
      "                                     aten::_convolution         0.04%     153.000us        47.61%     173.071ms      24.724ms      87.50 Mb           0 b             7  \n",
      "                      aten::_nnpack_spatial_convolution        47.54%     172.838ms        47.57%     172.918ms      24.703ms      87.50 Mb        -768 b             7  \n",
      "                                       aten::batch_norm         0.01%      46.000us         5.46%      19.834ms       3.306ms      75.00 Mb           0 b             6  \n",
      "                           aten::_batch_norm_impl_index         0.02%      79.000us         5.44%      19.788ms       3.298ms      75.00 Mb           0 b             6  \n",
      "                                aten::native_batch_norm         5.39%      19.583ms         5.42%      19.700ms       3.283ms      75.00 Mb      -2.12 Kb             6  \n",
      "                                    aten::empty_strided         0.09%     345.000us         0.09%     345.000us       0.844us       1.66 Mb       1.66 Mb           409  \n",
      "                                            aten::copy_         0.08%     289.000us         0.08%     289.000us       0.566us       1.47 Mb       1.20 Mb           511  \n",
      "                                            aten::clone         0.11%     385.000us         0.19%     701.000us       3.505us       1.46 Mb      -9.00 Kb           200  \n",
      "-------------------------------------------------------  ------------  ------------  ------------  ------------  ------------  ------------  ------------  ------------  \n",
      "Self CPU time total: 363.536ms\n",
      "\n"
     ]
    },
    {
     "name": "stderr",
     "output_type": "stream",
     "text": [
      "STAGE:2024-05-15 19:53:52 73279:7421708 ActivityProfilerController.cpp:320] Completed Stage: Collection\n",
      "STAGE:2024-05-15 19:53:52 73279:7421708 ActivityProfilerController.cpp:324] Completed Stage: Post Processing\n"
     ]
    }
   ],
   "source": [
    "with profile(activities=[ProfilerActivity.CPU], profile_memory=True, record_shapes=True) as prof:\n",
    "    with record_function(\"model_inference\"):\n",
    "        teacher6(next(iter(preprocessed_dataloaders['test']))[0])\n",
    "\n",
    "print(prof.key_averages().table(sort_by=\"cpu_memory_usage\", row_limit=10))"
   ]
  },
  {
   "cell_type": "code",
   "execution_count": 34,
   "metadata": {},
   "outputs": [
    {
     "name": "stderr",
     "output_type": "stream",
     "text": [
      "STAGE:2024-05-15 19:58:06 73279:7421708 ActivityProfilerController.cpp:314] Completed Stage: Warm Up\n",
      "STAGE:2024-05-15 19:58:06 73279:7421708 ActivityProfilerController.cpp:320] Completed Stage: Collection\n",
      "STAGE:2024-05-15 19:58:06 73279:7421708 ActivityProfilerController.cpp:324] Completed Stage: Post Processing\n"
     ]
    },
    {
     "name": "stdout",
     "output_type": "stream",
     "text": [
      "-------------------------------------------------------  ------------  ------------  ------------  ------------  ------------  ------------  ------------  ------------  \n",
      "                                                   Name    Self CPU %      Self CPU   CPU total %     CPU total  CPU time avg       CPU Mem  Self CPU Mem    # of Calls  \n",
      "-------------------------------------------------------  ------------  ------------  ------------  ------------  ------------  ------------  ------------  ------------  \n",
      "                                        model_inference         2.54%      12.508ms       100.00%     491.827ms     491.827ms           0 b    -551.24 Mb             1  \n",
      "                                           aten::conv2d         0.01%      61.000us        53.62%     263.727ms      29.303ms     112.50 Mb           0 b             9  \n",
      "                                      aten::convolution         0.04%     214.000us        53.61%     263.666ms      29.296ms     112.50 Mb           0 b             9  \n",
      "                                     aten::_convolution         0.04%     220.000us        53.57%     263.452ms      29.272ms     112.50 Mb           0 b             9  \n",
      "                      aten::_nnpack_spatial_convolution        53.50%     263.115ms        53.52%     263.232ms      29.248ms     112.50 Mb      -1.00 Kb             9  \n",
      "                                          aten::dropout         0.05%     264.000us        32.36%     159.131ms      15.913ms     225.02 Mb         -16 b            10  \n",
      "                                       aten::bernoulli_        27.16%     133.601ms        27.16%     133.601ms      13.360ms           0 b           0 b            10  \n",
      "                                       aten::batch_norm         0.01%      36.000us         6.10%      29.998ms       3.750ms     100.00 Mb           0 b             8  \n",
      "                           aten::_batch_norm_impl_index         0.02%     101.000us         6.09%      29.962ms       3.745ms     100.00 Mb           0 b             8  \n",
      "                                aten::native_batch_norm         6.03%      29.677ms         6.07%      29.848ms       3.731ms     100.00 Mb      12.50 Mb             8  \n",
      "                                              aten::mul         4.10%      20.161ms         4.10%      20.161ms       2.016ms     112.51 Mb     112.51 Mb            10  \n",
      "                                       aten::leaky_relu         3.36%      16.529ms         3.36%      16.529ms       1.653ms     112.51 Mb     112.51 Mb            10  \n",
      "enumerate(DataLoader)#_SingleProcessDataLoaderIter._...         1.38%       6.770ms         1.91%       9.374ms       9.374ms       1.17 Mb      -4.91 Mb             1  \n",
      "                                             aten::div_         0.97%       4.778ms         1.01%       4.976ms      44.829us           4 b         -44 b           111  \n",
      "                                               aten::to         0.04%     201.000us         0.15%     752.000us       1.469us       1.17 Mb     241.49 Kb           512  \n",
      "-------------------------------------------------------  ------------  ------------  ------------  ------------  ------------  ------------  ------------  ------------  \n",
      "Self CPU time total: 491.827ms\n",
      "\n"
     ]
    }
   ],
   "source": [
    "with profile(activities=[ProfilerActivity.CPU], profile_memory=True, record_shapes=True) as prof:\n",
    "    with record_function(\"model_inference\"):\n",
    "        teacher8(next(iter(preprocessed_dataloaders['test']))[0])\n",
    "\n",
    "print(prof.key_averages().table(sort_by=\"cpu_time_total\", row_limit=15))"
   ]
  },
  {
   "cell_type": "code",
   "execution_count": 13,
   "metadata": {},
   "outputs": [
    {
     "name": "stdout",
     "output_type": "stream",
     "text": [
      "tensor([[[[-0.5373, -0.5373, -0.5373,  ...,  0.1608,  0.1608,  0.1608],\n",
      "          [-0.5373, -0.5373, -0.5373,  ...,  0.1608,  0.1608,  0.1608],\n",
      "          [-0.5373, -0.5373, -0.5373,  ...,  0.1608,  0.1608,  0.1608],\n",
      "          ...,\n",
      "          [ 0.3882,  0.3882,  0.3882,  ..., -0.0353, -0.0353, -0.0353],\n",
      "          [ 0.3882,  0.3882,  0.3882,  ..., -0.0353, -0.0353, -0.0353],\n",
      "          [ 0.3882,  0.3882,  0.3882,  ..., -0.0353, -0.0353, -0.0353]],\n",
      "\n",
      "         [[-0.5137, -0.5137, -0.5137,  ..., -0.0275, -0.0275, -0.0275],\n",
      "          [-0.5137, -0.5137, -0.5137,  ..., -0.0275, -0.0275, -0.0275],\n",
      "          [-0.5137, -0.5137, -0.5137,  ..., -0.0275, -0.0275, -0.0275],\n",
      "          ...,\n",
      "          [ 0.1294,  0.1294,  0.1294,  ..., -0.2784, -0.2784, -0.2784],\n",
      "          [ 0.1294,  0.1294,  0.1294,  ..., -0.2784, -0.2784, -0.2784],\n",
      "          [ 0.1294,  0.1294,  0.1294,  ..., -0.2784, -0.2784, -0.2784]],\n",
      "\n",
      "         [[-0.5059, -0.5059, -0.5059,  ..., -0.1922, -0.1922, -0.1922],\n",
      "          [-0.5059, -0.5059, -0.5059,  ..., -0.1922, -0.1922, -0.1922],\n",
      "          [-0.5059, -0.5059, -0.5059,  ..., -0.1922, -0.1922, -0.1922],\n",
      "          ...,\n",
      "          [-0.0902, -0.0902, -0.0902,  ..., -0.4353, -0.4353, -0.4353],\n",
      "          [-0.0902, -0.0902, -0.0902,  ..., -0.4353, -0.4353, -0.4353],\n",
      "          [-0.0902, -0.0902, -0.0902,  ..., -0.4353, -0.4353, -0.4353]]],\n",
      "\n",
      "\n",
      "        [[[ 0.2078,  0.2078,  0.2078,  ..., -0.3804, -0.3804, -0.3804],\n",
      "          [ 0.2078,  0.2078,  0.2078,  ..., -0.3804, -0.3804, -0.3804],\n",
      "          [ 0.2078,  0.2078,  0.2078,  ..., -0.3804, -0.3804, -0.3804],\n",
      "          ...,\n",
      "          [ 0.2784,  0.2784,  0.2784,  ...,  0.1216,  0.1216,  0.1216],\n",
      "          [ 0.2784,  0.2784,  0.2784,  ...,  0.1216,  0.1216,  0.1216],\n",
      "          [ 0.2784,  0.2784,  0.2784,  ...,  0.1216,  0.1216,  0.1216]],\n",
      "\n",
      "         [[ 0.3882,  0.3882,  0.3882,  ..., -0.3647, -0.3647, -0.3647],\n",
      "          [ 0.3882,  0.3882,  0.3882,  ..., -0.3647, -0.3647, -0.3647],\n",
      "          [ 0.3882,  0.3882,  0.3882,  ..., -0.3647, -0.3647, -0.3647],\n",
      "          ...,\n",
      "          [ 0.1608,  0.1608,  0.1608,  ...,  0.0431,  0.0431,  0.0431],\n",
      "          [ 0.1608,  0.1608,  0.1608,  ...,  0.0431,  0.0431,  0.0431],\n",
      "          [ 0.1608,  0.1608,  0.1608,  ...,  0.0431,  0.0431,  0.0431]],\n",
      "\n",
      "         [[ 0.4667,  0.4667,  0.4667,  ..., -0.4510, -0.4510, -0.4510],\n",
      "          [ 0.4667,  0.4667,  0.4667,  ..., -0.4510, -0.4510, -0.4510],\n",
      "          [ 0.4667,  0.4667,  0.4667,  ..., -0.4510, -0.4510, -0.4510],\n",
      "          ...,\n",
      "          [-0.0588, -0.0588, -0.0588,  ...,  0.1294,  0.1294,  0.1294],\n",
      "          [-0.0588, -0.0588, -0.0588,  ...,  0.1294,  0.1294,  0.1294],\n",
      "          [-0.0588, -0.0588, -0.0588,  ...,  0.1294,  0.1294,  0.1294]]],\n",
      "\n",
      "\n",
      "        [[[ 1.0000,  1.0000,  1.0000,  ...,  0.9843,  0.9843,  0.9843],\n",
      "          [ 1.0000,  1.0000,  1.0000,  ...,  0.9843,  0.9843,  0.9843],\n",
      "          [ 1.0000,  1.0000,  1.0000,  ...,  0.9843,  0.9843,  0.9843],\n",
      "          ...,\n",
      "          [-0.1686, -0.1686, -0.1686,  ..., -0.3725, -0.3725, -0.3725],\n",
      "          [-0.1686, -0.1686, -0.1686,  ..., -0.3725, -0.3725, -0.3725],\n",
      "          [-0.1686, -0.1686, -0.1686,  ..., -0.3725, -0.3725, -0.3725]],\n",
      "\n",
      "         [[ 1.0000,  1.0000,  1.0000,  ...,  0.9843,  0.9843,  0.9843],\n",
      "          [ 1.0000,  1.0000,  1.0000,  ...,  0.9843,  0.9843,  0.9843],\n",
      "          [ 1.0000,  1.0000,  1.0000,  ...,  0.9843,  0.9843,  0.9843],\n",
      "          ...,\n",
      "          [-0.1137, -0.1137, -0.1137,  ..., -0.3255, -0.3255, -0.3255],\n",
      "          [-0.1137, -0.1137, -0.1137,  ..., -0.3255, -0.3255, -0.3255],\n",
      "          [-0.1137, -0.1137, -0.1137,  ..., -0.3255, -0.3255, -0.3255]],\n",
      "\n",
      "         [[ 1.0000,  1.0000,  1.0000,  ...,  0.9843,  0.9843,  0.9843],\n",
      "          [ 1.0000,  1.0000,  1.0000,  ...,  0.9843,  0.9843,  0.9843],\n",
      "          [ 1.0000,  1.0000,  1.0000,  ...,  0.9843,  0.9843,  0.9843],\n",
      "          ...,\n",
      "          [-0.1765, -0.1765, -0.1765,  ..., -0.3412, -0.3412, -0.3412],\n",
      "          [-0.1765, -0.1765, -0.1765,  ..., -0.3412, -0.3412, -0.3412],\n",
      "          [-0.1765, -0.1765, -0.1765,  ..., -0.3412, -0.3412, -0.3412]]],\n",
      "\n",
      "\n",
      "        ...,\n",
      "\n",
      "\n",
      "        [[[ 0.2863,  0.2863,  0.2863,  ...,  0.2549,  0.2549,  0.2549],\n",
      "          [ 0.2863,  0.2863,  0.2863,  ...,  0.2549,  0.2549,  0.2549],\n",
      "          [ 0.2863,  0.2863,  0.2863,  ...,  0.2549,  0.2549,  0.2549],\n",
      "          ...,\n",
      "          [-0.8902, -0.8902, -0.8902,  ...,  0.0980,  0.0980,  0.0980],\n",
      "          [-0.8902, -0.8902, -0.8902,  ...,  0.0980,  0.0980,  0.0980],\n",
      "          [-0.8902, -0.8902, -0.8902,  ...,  0.0980,  0.0980,  0.0980]],\n",
      "\n",
      "         [[ 0.3490,  0.3490,  0.3490,  ...,  0.3804,  0.3804,  0.3804],\n",
      "          [ 0.3490,  0.3490,  0.3490,  ...,  0.3804,  0.3804,  0.3804],\n",
      "          [ 0.3490,  0.3490,  0.3490,  ...,  0.3804,  0.3804,  0.3804],\n",
      "          ...,\n",
      "          [-0.8980, -0.8980, -0.8980,  ...,  0.1216,  0.1216,  0.1216],\n",
      "          [-0.8980, -0.8980, -0.8980,  ...,  0.1216,  0.1216,  0.1216],\n",
      "          [-0.8980, -0.8980, -0.8980,  ...,  0.1216,  0.1216,  0.1216]],\n",
      "\n",
      "         [[ 0.4275,  0.4275,  0.4275,  ...,  0.5686,  0.5686,  0.5686],\n",
      "          [ 0.4275,  0.4275,  0.4275,  ...,  0.5686,  0.5686,  0.5686],\n",
      "          [ 0.4275,  0.4275,  0.4275,  ...,  0.5686,  0.5686,  0.5686],\n",
      "          ...,\n",
      "          [-0.7490, -0.7490, -0.7490,  ...,  0.2392,  0.2392,  0.2392],\n",
      "          [-0.7490, -0.7490, -0.7490,  ...,  0.2392,  0.2392,  0.2392],\n",
      "          [-0.7490, -0.7490, -0.7490,  ...,  0.2392,  0.2392,  0.2392]]],\n",
      "\n",
      "\n",
      "        [[[ 0.6157,  0.6157,  0.6157,  ...,  1.0000,  1.0000,  1.0000],\n",
      "          [ 0.6157,  0.6157,  0.6157,  ...,  1.0000,  1.0000,  1.0000],\n",
      "          [ 0.6157,  0.6157,  0.6157,  ...,  1.0000,  1.0000,  1.0000],\n",
      "          ...,\n",
      "          [ 0.3490,  0.3490,  0.3490,  ...,  0.4039,  0.4039,  0.4039],\n",
      "          [ 0.3490,  0.3490,  0.3490,  ...,  0.4039,  0.4039,  0.4039],\n",
      "          [ 0.3490,  0.3490,  0.3490,  ...,  0.4039,  0.4039,  0.4039]],\n",
      "\n",
      "         [[ 0.2863,  0.2863,  0.2863,  ...,  0.6235,  0.6235,  0.6235],\n",
      "          [ 0.2863,  0.2863,  0.2863,  ...,  0.6235,  0.6235,  0.6235],\n",
      "          [ 0.2863,  0.2863,  0.2863,  ...,  0.6235,  0.6235,  0.6235],\n",
      "          ...,\n",
      "          [ 0.1373,  0.1373,  0.1373,  ...,  0.1294,  0.1294,  0.1294],\n",
      "          [ 0.1373,  0.1373,  0.1373,  ...,  0.1294,  0.1294,  0.1294],\n",
      "          [ 0.1373,  0.1373,  0.1373,  ...,  0.1294,  0.1294,  0.1294]],\n",
      "\n",
      "         [[ 0.1137,  0.1137,  0.1137,  ...,  0.3569,  0.3569,  0.3569],\n",
      "          [ 0.1137,  0.1137,  0.1137,  ...,  0.3569,  0.3569,  0.3569],\n",
      "          [ 0.1137,  0.1137,  0.1137,  ...,  0.3569,  0.3569,  0.3569],\n",
      "          ...,\n",
      "          [ 0.1137,  0.1137,  0.1137,  ...,  0.1059,  0.1059,  0.1059],\n",
      "          [ 0.1137,  0.1137,  0.1137,  ...,  0.1059,  0.1059,  0.1059],\n",
      "          [ 0.1137,  0.1137,  0.1137,  ...,  0.1059,  0.1059,  0.1059]]],\n",
      "\n",
      "\n",
      "        [[[-0.1451, -0.1451, -0.1451,  ..., -0.0588, -0.0588, -0.0588],\n",
      "          [-0.1451, -0.1451, -0.1451,  ..., -0.0588, -0.0588, -0.0588],\n",
      "          [-0.1451, -0.1451, -0.1451,  ..., -0.0588, -0.0588, -0.0588],\n",
      "          ...,\n",
      "          [-0.3255, -0.3255, -0.3255,  ..., -0.0745, -0.0745, -0.0745],\n",
      "          [-0.3255, -0.3255, -0.3255,  ..., -0.0745, -0.0745, -0.0745],\n",
      "          [-0.3255, -0.3255, -0.3255,  ..., -0.0745, -0.0745, -0.0745]],\n",
      "\n",
      "         [[ 0.3647,  0.3647,  0.3647,  ...,  0.3412,  0.3412,  0.3412],\n",
      "          [ 0.3647,  0.3647,  0.3647,  ...,  0.3412,  0.3412,  0.3412],\n",
      "          [ 0.3647,  0.3647,  0.3647,  ...,  0.3412,  0.3412,  0.3412],\n",
      "          ...,\n",
      "          [-0.1686, -0.1686, -0.1686,  ...,  0.1059,  0.1059,  0.1059],\n",
      "          [-0.1686, -0.1686, -0.1686,  ...,  0.1059,  0.1059,  0.1059],\n",
      "          [-0.1686, -0.1686, -0.1686,  ...,  0.1059,  0.1059,  0.1059]],\n",
      "\n",
      "         [[ 0.7569,  0.7569,  0.7569,  ...,  0.7255,  0.7255,  0.7255],\n",
      "          [ 0.7569,  0.7569,  0.7569,  ...,  0.7255,  0.7255,  0.7255],\n",
      "          [ 0.7569,  0.7569,  0.7569,  ...,  0.7255,  0.7255,  0.7255],\n",
      "          ...,\n",
      "          [-0.0588, -0.0588, -0.0588,  ...,  0.2392,  0.2392,  0.2392],\n",
      "          [-0.0588, -0.0588, -0.0588,  ...,  0.2392,  0.2392,  0.2392],\n",
      "          [-0.0588, -0.0588, -0.0588,  ...,  0.2392,  0.2392,  0.2392]]]])\n"
     ]
    }
   ],
   "source": [
    "images = next(iter(preprocessed_dataloaders['raw_train']))[0]\n",
    "inputs = feature_extractor(images=images, return_tensors='pt', do_rescale=False)\n",
    "print(inputs['pixel_values'])"
   ]
  },
  {
   "cell_type": "code",
   "execution_count": 14,
   "metadata": {},
   "outputs": [
    {
     "name": "stderr",
     "output_type": "stream",
     "text": [
      "STAGE:2024-05-15 16:17:58 70302:7383565 ActivityProfilerController.cpp:314] Completed Stage: Warm Up\n"
     ]
    },
    {
     "ename": "",
     "evalue": "",
     "output_type": "error",
     "traceback": [
      "\u001b[1;31mThe Kernel crashed while executing code in the current cell or a previous cell. \n",
      "\u001b[1;31mPlease review the code in the cell(s) to identify a possible cause of the failure. \n",
      "\u001b[1;31mClick <a href='https://aka.ms/vscodeJupyterKernelCrash'>here</a> for more info. \n",
      "\u001b[1;31mView Jupyter <a href='command:jupyter.viewOutput'>log</a> for further details."
     ]
    }
   ],
   "source": [
    "with profile(activities=[ProfilerActivity.CPU], record_shapes=True) as prof:\n",
    "    with record_function(\"model_inference\"):\n",
    "        teacher(inputs['pixel_values'])\n",
    "\n",
    "print(prof.key_averages().table(sort_by=\"cpu_time_total\", row_limit=10))"
   ]
  },
  {
   "cell_type": "code",
   "execution_count": null,
   "metadata": {},
   "outputs": [],
   "source": []
  }
 ],
 "metadata": {
  "kernelspec": {
   "display_name": "Python 3",
   "language": "python",
   "name": "python3"
  },
  "language_info": {
   "codemirror_mode": {
    "name": "ipython",
    "version": 3
   },
   "file_extension": ".py",
   "mimetype": "text/x-python",
   "name": "python",
   "nbconvert_exporter": "python",
   "pygments_lexer": "ipython3",
   "version": "3.11.7"
  }
 },
 "nbformat": 4,
 "nbformat_minor": 2
}
