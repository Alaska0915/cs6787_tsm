{
 "cells": [
  {
   "cell_type": "code",
   "execution_count": 1,
   "id": "57a2da8e-57ee-467b-99e7-ed70a6ca3e1e",
   "metadata": {},
   "outputs": [
    {
     "name": "stdout",
     "output_type": "stream",
     "text": [
      "Intel MKL WARNING: Support of Intel(R) Streaming SIMD Extensions 4.2 (Intel(R) SSE4.2) enabled only processors has been deprecated. Intel oneAPI Math Kernel Library 2025.0 will require Intel(R) Advanced Vector Extensions (Intel(R) AVX) instructions.\n",
      "Intel MKL WARNING: Support of Intel(R) Streaming SIMD Extensions 4.2 (Intel(R) SSE4.2) enabled only processors has been deprecated. Intel oneAPI Math Kernel Library 2025.0 will require Intel(R) Advanced Vector Extensions (Intel(R) AVX) instructions.\n"
     ]
    }
   ],
   "source": [
    "%run 'ML_imports.ipynb'"
   ]
  },
  {
   "cell_type": "code",
   "execution_count": 2,
   "id": "ffa64cab-05b8-4b18-a393-b307b9495def",
   "metadata": {},
   "outputs": [],
   "source": [
    "class Conv_Forward(nn.Module):\n",
    "    def __init__(self, in_channels, out_channels, dropout):\n",
    "        super(Conv_Forward, self).__init__()\n",
    "        self.fc = nn.Sequential(\n",
    "            nn.Conv2d(in_channels, out_channels, kernel_size=3, padding=1, bias=False),\n",
    "            nn.LeakyReLU(),\n",
    "            nn.BatchNorm2d(out_channels),\n",
    "            nn.Dropout(dropout)\n",
    "        )\n",
    "\n",
    "    def forward(self, x):\n",
    "        return self.fc(x)"
   ]
  },
  {
   "cell_type": "code",
   "execution_count": 3,
   "id": "cd009ebb-6c74-4af8-8fa5-02b934f22df9",
   "metadata": {},
   "outputs": [],
   "source": [
    "class Teacher(nn.Module):\n",
    "    def __init__(self, in_channels, out_channels, num_conv, num_classes, dropout):\n",
    "        super(Teacher, self).__init__()\n",
    "        self.num_conv = num_conv\n",
    "        self.conv_1 = nn.Conv2d(in_channels, out_channels, padding=1, kernel_size=3)\n",
    "        self.activation = nn.LeakyReLU()\n",
    "        self.drop_1 = nn.Dropout(dropout)\n",
    "        self.fc = nn.Sequential(\n",
    "            *[\n",
    "                Conv_Forward(out_channels, out_channels, dropout=dropout)\n",
    "                for i in range(num_conv)\n",
    "            ]\n",
    "        )\n",
    "        self.classifier = nn.Sequential(\n",
    "            nn.Linear(out_channels, 30),\n",
    "            nn.LeakyReLU(),\n",
    "            nn.Dropout(dropout),\n",
    "            nn.Linear(30, num_classes)\n",
    "        )\n",
    "\n",
    "    def forward(self, x):\n",
    "        out_1 = self.drop_1(self.activation(self.conv_1(x)))\n",
    "        out_2 = self.fc(out_1)\n",
    "        out_3 = torch.mean(out_2, dim=(2, 3))\n",
    "        out_4 = self.classifier(out_3)\n",
    "        return out_1, out_2, out_3, out_4"
   ]
  },
  {
   "cell_type": "code",
   "execution_count": 4,
   "id": "4e2e4cdb-efa3-4019-8881-b6490e2c4dee",
   "metadata": {},
   "outputs": [],
   "source": [
    "class Student(nn.Module):\n",
    "    def __init__(self, in_channels, out_channels, num_classes, dropout):\n",
    "        super(Student, self).__init__()\n",
    "        self.conv_1 = nn.Sequential(\n",
    "            nn.Conv2d(in_channels, out_channels, kernel_size=3, padding=1),\n",
    "            nn.LeakyReLU(),\n",
    "            nn.Dropout()\n",
    "        )\n",
    "        self.conv_2 = nn.Sequential(\n",
    "            nn.Conv2d(out_channels, out_channels, kernel_size=3, padding=1),\n",
    "            nn.LeakyReLU(),\n",
    "            nn.Dropout()\n",
    "        )\n",
    "\n",
    "        self.classifier = nn.Sequential(\n",
    "            nn.Linear(out_channels, 30),\n",
    "            nn.LeakyReLU(),\n",
    "            nn.Dropout(dropout),\n",
    "            nn.Linear(30, num_classes)\n",
    "        )\n",
    "        \n",
    "    def forward(self, x, teacher_out_1=None, teacher_out_2=None, teachers_input_student_ratio=10):\n",
    "        out_1 = self.conv_1(x)\n",
    "\n",
    "        if np.random.rand() > 0.5:\n",
    "            teacher_out_2 = None\n",
    "        else:\n",
    "            teacher_out_1 = None\n",
    "\n",
    "        if (teacher_out_1 is not None) and (np.random.rand() > teachers_input_student_ratio):\n",
    "            out_2 = self.conv_2(teacher_out_1.detach())\n",
    "        else:\n",
    "            out_2 = self.conv_2(out_1)\n",
    "        \n",
    "        if (teacher_out_2 is not None) and (np.random.rand() > teachers_input_student_ratio):\n",
    "            out_3 = torch.mean(teacher_out_2.detach(), dim=(2, 3))\n",
    "        else:\n",
    "            out_3 = torch.mean(out_2, dim=(2, 3))\n",
    "\n",
    "            \n",
    "        out_4 = self.classifier(out_3)\n",
    "        \n",
    "        return out_1, out_2, out_3, out_4"
   ]
  },
  {
   "cell_type": "code",
   "execution_count": 30,
   "id": "db9bf8e9-ad12-4ee8-bc15-87f5d0885e4e",
   "metadata": {},
   "outputs": [],
   "source": [
    "class TeacherStudentNetwork(nn.Module):\n",
    "    def __init__(\n",
    "        self,\n",
    "        in_channels,\n",
    "        out_channels,\n",
    "        teacher_num_conv,\n",
    "        teacher_weights_path,\n",
    "        num_classes,\n",
    "        dropout,\n",
    "    ):\n",
    "        super(TeacherStudentNetwork, self).__init__()\n",
    "        self.teacher =  Teacher(\n",
    "            in_channels=in_channels,\n",
    "            out_channels=out_channels,\n",
    "            num_conv=teacher_num_conv,\n",
    "            num_classes=num_classes,\n",
    "            dropout=dropout\n",
    "        )\n",
    "\n",
    "        self.student = Student(\n",
    "            in_channels=in_channels,\n",
    "            out_channels=out_channels,\n",
    "            num_classes=num_classes,\n",
    "            dropout=dropout,\n",
    "        )\n",
    "        \n",
    "        self.teacher.load_state_dict(torch.load(teacher_weights_path))\n",
    "\n",
    "    def forward(self, x, teachers_input_student_ratio=10):\n",
    "        with torch.no_grad():\n",
    "            t_out_1, t_out_2, t_out_3, t_out_4 = self.teacher(x)\n",
    "        s_out_1, s_out_2, s_out_3, s_out_4 = self.student(x, t_out_1, t_out_2, teachers_input_student_ratio)\n",
    "        return (\n",
    "            [t_out_1.detach(), t_out_2.detach(), t_out_3.detach(), t_out_4.detach()],\n",
    "            [s_out_1, s_out_2, s_out_3, s_out_4]\n",
    "        )"
   ]
  },
  {
   "cell_type": "code",
   "execution_count": 16,
   "id": "b471c9af-0f93-404b-92f6-2397f23dcc53",
   "metadata": {},
   "outputs": [],
   "source": [
    "img = torch.randn(2, 3, 32, 32)\n",
    "t = Teacher(in_channels = 3, out_channels = 32, num_conv = 4, num_classes = 10,dropout = 0.2)\n",
    "s = Student(in_channels = 3, out_channels = 32, num_classes = 10, dropout = 0.2)\n",
    "out_1, out_2, out_3, out_4 = t(img)"
   ]
  },
  {
   "cell_type": "code",
   "execution_count": 23,
   "id": "0b93e656-d70d-45d2-aadc-d91d72461c2f",
   "metadata": {},
   "outputs": [
    {
     "data": {
      "text/plain": [
       "(torch.Size([2, 32, 32, 32]),\n",
       " torch.Size([2, 32, 32, 32]),\n",
       " torch.Size([2, 32]),\n",
       " torch.Size([2, 10]))"
      ]
     },
     "execution_count": 23,
     "metadata": {},
     "output_type": "execute_result"
    }
   ],
   "source": [
    "out_1.shape, out_2.shape, out_3.shape, out_4.shape"
   ]
  },
  {
   "cell_type": "code",
   "execution_count": 24,
   "id": "9699447e-5961-4281-9546-0312c26f714d",
   "metadata": {},
   "outputs": [],
   "source": [
    "s_out_1, s_out_2, s_out_3, s_out_4 = s(img, out_1, out_2)"
   ]
  },
  {
   "cell_type": "code",
   "execution_count": 25,
   "id": "e1564f33-ca04-4b44-8b91-6be3e30ce8e0",
   "metadata": {},
   "outputs": [
    {
     "data": {
      "text/plain": [
       "(torch.Size([2, 32, 32, 32]),\n",
       " torch.Size([2, 32, 32, 32]),\n",
       " torch.Size([2, 32]),\n",
       " torch.Size([2, 10]))"
      ]
     },
     "execution_count": 25,
     "metadata": {},
     "output_type": "execute_result"
    }
   ],
   "source": [
    "s_out_1.shape, s_out_2.shape, s_out_3.shape, s_out_4.shape"
   ]
  },
  {
   "cell_type": "code",
   "execution_count": 27,
   "id": "7a5e897a-a8bb-43ee-9f25-ae6419c51644",
   "metadata": {},
   "outputs": [],
   "source": [
    "path = \"model/teacher_model.bin\"\n",
    "torch.save(t.state_dict(), path)"
   ]
  },
  {
   "cell_type": "code",
   "execution_count": 31,
   "id": "0ee7fba8-5a10-49cc-ad07-4190ce6c57e0",
   "metadata": {},
   "outputs": [],
   "source": [
    "t_s = TeacherStudentNetwork(3, 32, 4, path, 10, 0.2)"
   ]
  },
  {
   "cell_type": "code",
   "execution_count": null,
   "id": "c26c6cad-77da-42eb-ae77-40918c945f05",
   "metadata": {},
   "outputs": [],
   "source": []
  }
 ],
 "metadata": {
  "kernelspec": {
   "display_name": "Python 3 (ipykernel)",
   "language": "python",
   "name": "python3"
  },
  "language_info": {
   "codemirror_mode": {
    "name": "ipython",
    "version": 3
   },
   "file_extension": ".py",
   "mimetype": "text/x-python",
   "name": "python",
   "nbconvert_exporter": "python",
   "pygments_lexer": "ipython3",
   "version": "3.11.8"
  }
 },
 "nbformat": 4,
 "nbformat_minor": 5
}
