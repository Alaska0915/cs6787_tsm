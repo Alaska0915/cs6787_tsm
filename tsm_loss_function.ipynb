{
 "cells": [
  {
   "cell_type": "code",
   "execution_count": 1,
   "id": "e1eb3bc6-7f62-4fe1-b975-e5753897ffbf",
   "metadata": {},
   "outputs": [
    {
     "name": "stdout",
     "output_type": "stream",
     "text": [
      "Intel MKL WARNING: Support of Intel(R) Streaming SIMD Extensions 4.2 (Intel(R) SSE4.2) enabled only processors has been deprecated. Intel oneAPI Math Kernel Library 2025.0 will require Intel(R) Advanced Vector Extensions (Intel(R) AVX) instructions.\n",
      "Intel MKL WARNING: Support of Intel(R) Streaming SIMD Extensions 4.2 (Intel(R) SSE4.2) enabled only processors has been deprecated. Intel oneAPI Math Kernel Library 2025.0 will require Intel(R) Advanced Vector Extensions (Intel(R) AVX) instructions.\n"
     ]
    }
   ],
   "source": [
    "import torch\n",
    "import random\n",
    "import torch.nn as nn\n",
    "from tqdm import tqdm"
   ]
  },
  {
   "cell_type": "code",
   "execution_count": 3,
   "id": "ad2aa0cc-9537-41a7-9274-b0d85534a075",
   "metadata": {},
   "outputs": [],
   "source": [
    "def teacher_and_student_loss_fn(t_out_4, s_out_4, labels, temperature = 3, alpha = 0.7):\n",
    "    cce_l = nn.CrossEntropyLoss()(s_out_4, labels.view(-1))\n",
    "    s_out_4 = nn.LogSoftmax()(s_out_4/temperature)\n",
    "    t_out_4 = torch.softmax(t_out_4/temperature, dim=-1)\n",
    "    kde_loss = nn.KLDivLoss()(s_out_4, t_out_4)\n",
    "    \n",
    "    return kde_loss*(alpha * temperature* temperature) + cce_l * (1 - alpha)"
   ]
  },
  {
   "cell_type": "code",
   "execution_count": 4,
   "id": "44efbb7d-5ebf-4de3-a72b-8734a4b4d5bd",
   "metadata": {},
   "outputs": [],
   "source": [
    "def accuracy_fn(out, ground_truth):\n",
    "    prediction = torch.argmax(out, dim=-1)\n",
    "    return ((prediction.reshape(-1, 1) == ground_truth)*1.0).mean()"
   ]
  },
  {
   "cell_type": "code",
   "execution_count": null,
   "id": "32d66023-cffa-4888-b732-d3972428f8f2",
   "metadata": {},
   "outputs": [],
   "source": []
  }
 ],
 "metadata": {
  "kernelspec": {
   "display_name": "Python 3 (ipykernel)",
   "language": "python",
   "name": "python3"
  },
  "language_info": {
   "codemirror_mode": {
    "name": "ipython",
    "version": 3
   },
   "file_extension": ".py",
   "mimetype": "text/x-python",
   "name": "python",
   "nbconvert_exporter": "python",
   "pygments_lexer": "ipython3",
   "version": "3.11.8"
  }
 },
 "nbformat": 4,
 "nbformat_minor": 5
}
